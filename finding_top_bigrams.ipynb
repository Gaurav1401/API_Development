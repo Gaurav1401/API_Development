{
  "nbformat": 4,
  "nbformat_minor": 0,
  "metadata": {
    "colab": {
      "name": "finding_top_bigrams.ipynb",
      "provenance": []
    },
    "kernelspec": {
      "name": "python3",
      "display_name": "Python 3"
    },
    "language_info": {
      "name": "python"
    }
  },
  "cells": [
    {
      "cell_type": "code",
      "source": [
        "import numpy as np\n",
        "import pandas as pd"
      ],
      "metadata": {
        "id": "ln5NSVlzYtgX"
      },
      "execution_count": 2,
      "outputs": []
    },
    {
      "cell_type": "code",
      "source": [
        "data = pd.read_csv(\"/content/scrapped_data.csv\")"
      ],
      "metadata": {
        "id": "Ciy4JENd2HyB"
      },
      "execution_count": 3,
      "outputs": []
    },
    {
      "cell_type": "code",
      "source": [
        "data.head()"
      ],
      "metadata": {
        "colab": {
          "base_uri": "https://localhost:8080/",
          "height": 372
        },
        "id": "ZtcNjGFb2PGI",
        "outputId": "fdb1bc62-f374-44b5-db93-eac66637539a"
      },
      "execution_count": 4,
      "outputs": [
        {
          "output_type": "execute_result",
          "data": {
            "text/plain": [
              "   Unnamed: 0                                             Header  \\\n",
              "0           0  SAP’s key to generational change is its best-k...   \n",
              "1           1  ThoughtSpot adds new BI capabilities, editions...   \n",
              "2           2  Google announces AlloyDB, a faster, hosted ver...   \n",
              "3           3  Helping nontechnical execs select analytics so...   \n",
              "4           4  Data technology comes to the construction indu...   \n",
              "\n",
              "                DateTime                                        Article_Url  \\\n",
              "0   May 12, 2022 7:00 AM  https://venturebeat.com/2022/05/12/saps-key-to...   \n",
              "1   May 11, 2022 2:41 PM  https://venturebeat.com/2022/05/11/thoughtspot...   \n",
              "2  May 11, 2022 12:15 PM  https://venturebeat.com/2022/05/11/google-anno...   \n",
              "3    May 4, 2022 7:40 AM  https://venturebeat.com/2022/05/04/helping-non...   \n",
              "4   May 3, 2022 11:40 AM  https://venturebeat.com/2022/05/03/data-techno...   \n",
              "\n",
              "                                             Content  \n",
              "0  SAP is no stranger to generation change. Turni...  \n",
              "1  At its Beyond 2022 conference yesterday, indep...  \n",
              "2  Data-laden users will have a new option for st...  \n",
              "3  Every company seeks to make better decisions d...  \n",
              "4  It’s no secret that data is changing the world...  "
            ],
            "text/html": [
              "\n",
              "  <div id=\"df-b731fa1b-4ee5-4631-ab3e-f136b8b5f1b4\">\n",
              "    <div class=\"colab-df-container\">\n",
              "      <div>\n",
              "<style scoped>\n",
              "    .dataframe tbody tr th:only-of-type {\n",
              "        vertical-align: middle;\n",
              "    }\n",
              "\n",
              "    .dataframe tbody tr th {\n",
              "        vertical-align: top;\n",
              "    }\n",
              "\n",
              "    .dataframe thead th {\n",
              "        text-align: right;\n",
              "    }\n",
              "</style>\n",
              "<table border=\"1\" class=\"dataframe\">\n",
              "  <thead>\n",
              "    <tr style=\"text-align: right;\">\n",
              "      <th></th>\n",
              "      <th>Unnamed: 0</th>\n",
              "      <th>Header</th>\n",
              "      <th>DateTime</th>\n",
              "      <th>Article_Url</th>\n",
              "      <th>Content</th>\n",
              "    </tr>\n",
              "  </thead>\n",
              "  <tbody>\n",
              "    <tr>\n",
              "      <th>0</th>\n",
              "      <td>0</td>\n",
              "      <td>SAP’s key to generational change is its best-k...</td>\n",
              "      <td>May 12, 2022 7:00 AM</td>\n",
              "      <td>https://venturebeat.com/2022/05/12/saps-key-to...</td>\n",
              "      <td>SAP is no stranger to generation change. Turni...</td>\n",
              "    </tr>\n",
              "    <tr>\n",
              "      <th>1</th>\n",
              "      <td>1</td>\n",
              "      <td>ThoughtSpot adds new BI capabilities, editions...</td>\n",
              "      <td>May 11, 2022 2:41 PM</td>\n",
              "      <td>https://venturebeat.com/2022/05/11/thoughtspot...</td>\n",
              "      <td>At its Beyond 2022 conference yesterday, indep...</td>\n",
              "    </tr>\n",
              "    <tr>\n",
              "      <th>2</th>\n",
              "      <td>2</td>\n",
              "      <td>Google announces AlloyDB, a faster, hosted ver...</td>\n",
              "      <td>May 11, 2022 12:15 PM</td>\n",
              "      <td>https://venturebeat.com/2022/05/11/google-anno...</td>\n",
              "      <td>Data-laden users will have a new option for st...</td>\n",
              "    </tr>\n",
              "    <tr>\n",
              "      <th>3</th>\n",
              "      <td>3</td>\n",
              "      <td>Helping nontechnical execs select analytics so...</td>\n",
              "      <td>May 4, 2022 7:40 AM</td>\n",
              "      <td>https://venturebeat.com/2022/05/04/helping-non...</td>\n",
              "      <td>Every company seeks to make better decisions d...</td>\n",
              "    </tr>\n",
              "    <tr>\n",
              "      <th>4</th>\n",
              "      <td>4</td>\n",
              "      <td>Data technology comes to the construction indu...</td>\n",
              "      <td>May 3, 2022 11:40 AM</td>\n",
              "      <td>https://venturebeat.com/2022/05/03/data-techno...</td>\n",
              "      <td>It’s no secret that data is changing the world...</td>\n",
              "    </tr>\n",
              "  </tbody>\n",
              "</table>\n",
              "</div>\n",
              "      <button class=\"colab-df-convert\" onclick=\"convertToInteractive('df-b731fa1b-4ee5-4631-ab3e-f136b8b5f1b4')\"\n",
              "              title=\"Convert this dataframe to an interactive table.\"\n",
              "              style=\"display:none;\">\n",
              "        \n",
              "  <svg xmlns=\"http://www.w3.org/2000/svg\" height=\"24px\"viewBox=\"0 0 24 24\"\n",
              "       width=\"24px\">\n",
              "    <path d=\"M0 0h24v24H0V0z\" fill=\"none\"/>\n",
              "    <path d=\"M18.56 5.44l.94 2.06.94-2.06 2.06-.94-2.06-.94-.94-2.06-.94 2.06-2.06.94zm-11 1L8.5 8.5l.94-2.06 2.06-.94-2.06-.94L8.5 2.5l-.94 2.06-2.06.94zm10 10l.94 2.06.94-2.06 2.06-.94-2.06-.94-.94-2.06-.94 2.06-2.06.94z\"/><path d=\"M17.41 7.96l-1.37-1.37c-.4-.4-.92-.59-1.43-.59-.52 0-1.04.2-1.43.59L10.3 9.45l-7.72 7.72c-.78.78-.78 2.05 0 2.83L4 21.41c.39.39.9.59 1.41.59.51 0 1.02-.2 1.41-.59l7.78-7.78 2.81-2.81c.8-.78.8-2.07 0-2.86zM5.41 20L4 18.59l7.72-7.72 1.47 1.35L5.41 20z\"/>\n",
              "  </svg>\n",
              "      </button>\n",
              "      \n",
              "  <style>\n",
              "    .colab-df-container {\n",
              "      display:flex;\n",
              "      flex-wrap:wrap;\n",
              "      gap: 12px;\n",
              "    }\n",
              "\n",
              "    .colab-df-convert {\n",
              "      background-color: #E8F0FE;\n",
              "      border: none;\n",
              "      border-radius: 50%;\n",
              "      cursor: pointer;\n",
              "      display: none;\n",
              "      fill: #1967D2;\n",
              "      height: 32px;\n",
              "      padding: 0 0 0 0;\n",
              "      width: 32px;\n",
              "    }\n",
              "\n",
              "    .colab-df-convert:hover {\n",
              "      background-color: #E2EBFA;\n",
              "      box-shadow: 0px 1px 2px rgba(60, 64, 67, 0.3), 0px 1px 3px 1px rgba(60, 64, 67, 0.15);\n",
              "      fill: #174EA6;\n",
              "    }\n",
              "\n",
              "    [theme=dark] .colab-df-convert {\n",
              "      background-color: #3B4455;\n",
              "      fill: #D2E3FC;\n",
              "    }\n",
              "\n",
              "    [theme=dark] .colab-df-convert:hover {\n",
              "      background-color: #434B5C;\n",
              "      box-shadow: 0px 1px 3px 1px rgba(0, 0, 0, 0.15);\n",
              "      filter: drop-shadow(0px 1px 2px rgba(0, 0, 0, 0.3));\n",
              "      fill: #FFFFFF;\n",
              "    }\n",
              "  </style>\n",
              "\n",
              "      <script>\n",
              "        const buttonEl =\n",
              "          document.querySelector('#df-b731fa1b-4ee5-4631-ab3e-f136b8b5f1b4 button.colab-df-convert');\n",
              "        buttonEl.style.display =\n",
              "          google.colab.kernel.accessAllowed ? 'block' : 'none';\n",
              "\n",
              "        async function convertToInteractive(key) {\n",
              "          const element = document.querySelector('#df-b731fa1b-4ee5-4631-ab3e-f136b8b5f1b4');\n",
              "          const dataTable =\n",
              "            await google.colab.kernel.invokeFunction('convertToInteractive',\n",
              "                                                     [key], {});\n",
              "          if (!dataTable) return;\n",
              "\n",
              "          const docLinkHtml = 'Like what you see? Visit the ' +\n",
              "            '<a target=\"_blank\" href=https://colab.research.google.com/notebooks/data_table.ipynb>data table notebook</a>'\n",
              "            + ' to learn more about interactive tables.';\n",
              "          element.innerHTML = '';\n",
              "          dataTable['output_type'] = 'display_data';\n",
              "          await google.colab.output.renderOutput(dataTable, element);\n",
              "          const docLink = document.createElement('div');\n",
              "          docLink.innerHTML = docLinkHtml;\n",
              "          element.appendChild(docLink);\n",
              "        }\n",
              "      </script>\n",
              "    </div>\n",
              "  </div>\n",
              "  "
            ]
          },
          "metadata": {},
          "execution_count": 4
        }
      ]
    },
    {
      "cell_type": "code",
      "source": [
        "data.drop(\"Unnamed: 0\", axis = 'columns', inplace = True)"
      ],
      "metadata": {
        "id": "UF4up31z2QGm"
      },
      "execution_count": 5,
      "outputs": []
    },
    {
      "cell_type": "code",
      "source": [
        "data.head()"
      ],
      "metadata": {
        "colab": {
          "base_uri": "https://localhost:8080/",
          "height": 337
        },
        "id": "ybL6_RO12hDJ",
        "outputId": "2327ede2-f5f8-48eb-db5a-18fab0f7fef0"
      },
      "execution_count": 6,
      "outputs": [
        {
          "output_type": "execute_result",
          "data": {
            "text/plain": [
              "                                              Header               DateTime  \\\n",
              "0  SAP’s key to generational change is its best-k...   May 12, 2022 7:00 AM   \n",
              "1  ThoughtSpot adds new BI capabilities, editions...   May 11, 2022 2:41 PM   \n",
              "2  Google announces AlloyDB, a faster, hosted ver...  May 11, 2022 12:15 PM   \n",
              "3  Helping nontechnical execs select analytics so...    May 4, 2022 7:40 AM   \n",
              "4  Data technology comes to the construction indu...   May 3, 2022 11:40 AM   \n",
              "\n",
              "                                         Article_Url  \\\n",
              "0  https://venturebeat.com/2022/05/12/saps-key-to...   \n",
              "1  https://venturebeat.com/2022/05/11/thoughtspot...   \n",
              "2  https://venturebeat.com/2022/05/11/google-anno...   \n",
              "3  https://venturebeat.com/2022/05/04/helping-non...   \n",
              "4  https://venturebeat.com/2022/05/03/data-techno...   \n",
              "\n",
              "                                             Content  \n",
              "0  SAP is no stranger to generation change. Turni...  \n",
              "1  At its Beyond 2022 conference yesterday, indep...  \n",
              "2  Data-laden users will have a new option for st...  \n",
              "3  Every company seeks to make better decisions d...  \n",
              "4  It’s no secret that data is changing the world...  "
            ],
            "text/html": [
              "\n",
              "  <div id=\"df-3ae421e8-cc6a-49e5-9063-cc26b1d03b84\">\n",
              "    <div class=\"colab-df-container\">\n",
              "      <div>\n",
              "<style scoped>\n",
              "    .dataframe tbody tr th:only-of-type {\n",
              "        vertical-align: middle;\n",
              "    }\n",
              "\n",
              "    .dataframe tbody tr th {\n",
              "        vertical-align: top;\n",
              "    }\n",
              "\n",
              "    .dataframe thead th {\n",
              "        text-align: right;\n",
              "    }\n",
              "</style>\n",
              "<table border=\"1\" class=\"dataframe\">\n",
              "  <thead>\n",
              "    <tr style=\"text-align: right;\">\n",
              "      <th></th>\n",
              "      <th>Header</th>\n",
              "      <th>DateTime</th>\n",
              "      <th>Article_Url</th>\n",
              "      <th>Content</th>\n",
              "    </tr>\n",
              "  </thead>\n",
              "  <tbody>\n",
              "    <tr>\n",
              "      <th>0</th>\n",
              "      <td>SAP’s key to generational change is its best-k...</td>\n",
              "      <td>May 12, 2022 7:00 AM</td>\n",
              "      <td>https://venturebeat.com/2022/05/12/saps-key-to...</td>\n",
              "      <td>SAP is no stranger to generation change. Turni...</td>\n",
              "    </tr>\n",
              "    <tr>\n",
              "      <th>1</th>\n",
              "      <td>ThoughtSpot adds new BI capabilities, editions...</td>\n",
              "      <td>May 11, 2022 2:41 PM</td>\n",
              "      <td>https://venturebeat.com/2022/05/11/thoughtspot...</td>\n",
              "      <td>At its Beyond 2022 conference yesterday, indep...</td>\n",
              "    </tr>\n",
              "    <tr>\n",
              "      <th>2</th>\n",
              "      <td>Google announces AlloyDB, a faster, hosted ver...</td>\n",
              "      <td>May 11, 2022 12:15 PM</td>\n",
              "      <td>https://venturebeat.com/2022/05/11/google-anno...</td>\n",
              "      <td>Data-laden users will have a new option for st...</td>\n",
              "    </tr>\n",
              "    <tr>\n",
              "      <th>3</th>\n",
              "      <td>Helping nontechnical execs select analytics so...</td>\n",
              "      <td>May 4, 2022 7:40 AM</td>\n",
              "      <td>https://venturebeat.com/2022/05/04/helping-non...</td>\n",
              "      <td>Every company seeks to make better decisions d...</td>\n",
              "    </tr>\n",
              "    <tr>\n",
              "      <th>4</th>\n",
              "      <td>Data technology comes to the construction indu...</td>\n",
              "      <td>May 3, 2022 11:40 AM</td>\n",
              "      <td>https://venturebeat.com/2022/05/03/data-techno...</td>\n",
              "      <td>It’s no secret that data is changing the world...</td>\n",
              "    </tr>\n",
              "  </tbody>\n",
              "</table>\n",
              "</div>\n",
              "      <button class=\"colab-df-convert\" onclick=\"convertToInteractive('df-3ae421e8-cc6a-49e5-9063-cc26b1d03b84')\"\n",
              "              title=\"Convert this dataframe to an interactive table.\"\n",
              "              style=\"display:none;\">\n",
              "        \n",
              "  <svg xmlns=\"http://www.w3.org/2000/svg\" height=\"24px\"viewBox=\"0 0 24 24\"\n",
              "       width=\"24px\">\n",
              "    <path d=\"M0 0h24v24H0V0z\" fill=\"none\"/>\n",
              "    <path d=\"M18.56 5.44l.94 2.06.94-2.06 2.06-.94-2.06-.94-.94-2.06-.94 2.06-2.06.94zm-11 1L8.5 8.5l.94-2.06 2.06-.94-2.06-.94L8.5 2.5l-.94 2.06-2.06.94zm10 10l.94 2.06.94-2.06 2.06-.94-2.06-.94-.94-2.06-.94 2.06-2.06.94z\"/><path d=\"M17.41 7.96l-1.37-1.37c-.4-.4-.92-.59-1.43-.59-.52 0-1.04.2-1.43.59L10.3 9.45l-7.72 7.72c-.78.78-.78 2.05 0 2.83L4 21.41c.39.39.9.59 1.41.59.51 0 1.02-.2 1.41-.59l7.78-7.78 2.81-2.81c.8-.78.8-2.07 0-2.86zM5.41 20L4 18.59l7.72-7.72 1.47 1.35L5.41 20z\"/>\n",
              "  </svg>\n",
              "      </button>\n",
              "      \n",
              "  <style>\n",
              "    .colab-df-container {\n",
              "      display:flex;\n",
              "      flex-wrap:wrap;\n",
              "      gap: 12px;\n",
              "    }\n",
              "\n",
              "    .colab-df-convert {\n",
              "      background-color: #E8F0FE;\n",
              "      border: none;\n",
              "      border-radius: 50%;\n",
              "      cursor: pointer;\n",
              "      display: none;\n",
              "      fill: #1967D2;\n",
              "      height: 32px;\n",
              "      padding: 0 0 0 0;\n",
              "      width: 32px;\n",
              "    }\n",
              "\n",
              "    .colab-df-convert:hover {\n",
              "      background-color: #E2EBFA;\n",
              "      box-shadow: 0px 1px 2px rgba(60, 64, 67, 0.3), 0px 1px 3px 1px rgba(60, 64, 67, 0.15);\n",
              "      fill: #174EA6;\n",
              "    }\n",
              "\n",
              "    [theme=dark] .colab-df-convert {\n",
              "      background-color: #3B4455;\n",
              "      fill: #D2E3FC;\n",
              "    }\n",
              "\n",
              "    [theme=dark] .colab-df-convert:hover {\n",
              "      background-color: #434B5C;\n",
              "      box-shadow: 0px 1px 3px 1px rgba(0, 0, 0, 0.15);\n",
              "      filter: drop-shadow(0px 1px 2px rgba(0, 0, 0, 0.3));\n",
              "      fill: #FFFFFF;\n",
              "    }\n",
              "  </style>\n",
              "\n",
              "      <script>\n",
              "        const buttonEl =\n",
              "          document.querySelector('#df-3ae421e8-cc6a-49e5-9063-cc26b1d03b84 button.colab-df-convert');\n",
              "        buttonEl.style.display =\n",
              "          google.colab.kernel.accessAllowed ? 'block' : 'none';\n",
              "\n",
              "        async function convertToInteractive(key) {\n",
              "          const element = document.querySelector('#df-3ae421e8-cc6a-49e5-9063-cc26b1d03b84');\n",
              "          const dataTable =\n",
              "            await google.colab.kernel.invokeFunction('convertToInteractive',\n",
              "                                                     [key], {});\n",
              "          if (!dataTable) return;\n",
              "\n",
              "          const docLinkHtml = 'Like what you see? Visit the ' +\n",
              "            '<a target=\"_blank\" href=https://colab.research.google.com/notebooks/data_table.ipynb>data table notebook</a>'\n",
              "            + ' to learn more about interactive tables.';\n",
              "          element.innerHTML = '';\n",
              "          dataTable['output_type'] = 'display_data';\n",
              "          await google.colab.output.renderOutput(dataTable, element);\n",
              "          const docLink = document.createElement('div');\n",
              "          docLink.innerHTML = docLinkHtml;\n",
              "          element.appendChild(docLink);\n",
              "        }\n",
              "      </script>\n",
              "    </div>\n",
              "  </div>\n",
              "  "
            ]
          },
          "metadata": {},
          "execution_count": 6
        }
      ]
    },
    {
      "cell_type": "code",
      "source": [
        "data['Content'][0]"
      ],
      "metadata": {
        "colab": {
          "base_uri": "https://localhost:8080/",
          "height": 174
        },
        "id": "h-x5wTug3r7N",
        "outputId": "e0a33778-ff67-4359-d502-aade635334d3"
      },
      "execution_count": 9,
      "outputs": [
        {
          "output_type": "execute_result",
          "data": {
            "text/plain": [
              "'SAP is no stranger to generation change. Turning 50 years old this year, it wasn’t until SAP reached middle age that it grabbed its original claim to fame as the leader in enterprise software applications. In the runup to Y2K, enterprises looked to a middle-aged software provider that was (it predated SAS by four years) to represent a new generation of enterprise business system. In the past few years, SAP’s top management underwent a generational change with much of the current executive team populated by a bunch of forty year-olds. But generation change goes beyond showing off young faces. It’s the inconvenient truth that cloud and the disruption caused by the pandemic have pushed SAP and its customers into yet another transformation wave whether they like it or not. But if you ask most SAP customers as to what that generational change is, in all likelihood they will point to S/4HANA, which is the successor to SAP ECC and Business Suite. Or they might think of SAP’s various cloud offerings for HANA, data warehousing, and analytics. Few will guess about the piece that is represents its true underbelly of change: SAP’s Business Technology Platform (BTP). SAP talks BTP, but the message is still muddled Call it SAP’s best-kept secret. Ever since SAP introduced it when it rebranded from SAP Cloud Platform roughly a year ago, we’ve been confused as to what BTP is. And it’s not for lack of content, promotion, or verbiage. There’s the requisite technology stack chart showing all the latest APIs, data sources, and programming languages. There are web pages devoted to BTP, but they pinpoint what BTP can do rather than what it is. Addressing application development, integration, automation, AI, and planning & analysis, BTP offers nearly a hundred prebuilt cloud services covering the waterfront. It includes a “Discovery Center” where customers can assess business outcome missions from the perspective of the implementer. And with roughly a third of the portfolio offered on a freemium basis, SAP is certainly serious about getting BTP services in developer’s hands. Other content on the website shows selected customer success stories, such as Farys, a Belgian wastewater utility, that was able to get reports 10x faster and build a customer self-service portal that automated over 90% of interactions, all with BTP. But nowhere does SAP clearly put its cards on the table and flatly state what BTP actually is. Spoiler Alert! BTP’s about SAP app modernization At SAP’s main SAPPHIRE event this week, we finally got an explanation. BTP is the technology foundation that changes the way companies develop and extend their SAP applications. Part of the confusion is that a key part of the message behind BTP is not new. From the days of S/3 and up through ECC, SAP warned customers not to customize inside the application. However, with APIs still another 10 – 15 years off in the future, customers would have had to custom-build their own interfaces to extend SAP to keep the core application code pristine. But SAP also provided tools for customers to take the law into their own hands, with the ABAP language, later supplemented by Java. And so typically, most ECC implementations are likely to have a lot of custom ABAP code inside them, especially in financial accounting modules. And therein lies the rub. With all that intrinsic custom code, two words ended up striking terror into the hearts of ECC customers: Version Upgrade. Updating versions or instituting patches inevitably meant checking countless interfaces to ensure that functionality would not be broken. Some of SAP’s largest customers had up to tens of thousands of customizations in their own implementations. APIs to the rescue By the time SAP introduced what is now known as BTP, APIs became established practice and popular with developers. The guiding notion behind BTP is to abstract all the customizations outside the core code through APIs. Reliance on APIs is a rule of thumb for cloud SaaS applications, which would otherwise constantly break if they let their customers mess with the innards. With BTP, SAP is telling its customers that they should adopt these practices, regardless of what generation SAP software they are running, or regardless of whether they are running in the cloud (or not). The theory is that if you keep the APIs stable, the core application should be well protected and the extensions should interoperate with them. While APIs are generally associated with integrating applications or connecting applications to different data sources, they could also be used for the purpose of protecting the core code. And while BTP is often described as a collection of reusable services, at its heart, BTP provides APIs enabling SAP customers to wean themselves off years of bad habits, keeping modifications away from the SAP app. Given that APIs are the default mode of interoperating with SaaS applications, it’s not surprising that BTP initially surfaced as part of the rollout of what used to be known as SAP Cloud Platform. Let’s cut to the chase SAP needs to clarify what BTP actually is. It’s more than just a bunch of APIs and services. At the end of the day, BTP is really about modernizing how classic and low-code developers work with SAP applications. And we’re not just talking about the current generation like S/4HANA. Nonetheless, most SAP customers adopting BTP are likely to be headed for newer offerings like S/4HANA, Data Warehouse Cloud, or Analytics Cloud, but there is also an important bridge play for customers who may still need to have some assets on ECC. And in fact, it has also been back-ported to legacy SAP solutions such as Business ByDesign. BTP is also about SAP broadening outside the ABAP developer base, and for that matter, also reaching out to citizen developers. With BTP, they can write apps or changes in the language of their choice, which is pretty critical given that ABAP is a legacy language that is not attracting many developers these days (akin to COBOL). And that extends from traditional coding to low code/no code tools that SAP is starting to promote. It’s a portfolio of prebuilt cloud-based services for common capabilities to give developers jumpstarts that can be run against SAP (and for popular sources, non-SAP) data in the cloud or back on-premises. For SAP and its customers, BTP represents both challenge and opportunity. It’s an opportunity to make customer SAP implementations less brittle, and enable customers to become more agile by overcoming the fear, not only of upgrades, but of adding new functionality. During the course of the pandemic, businesses have had to embrace change, from hybrid workplaces to accelerating digital processes, new approaches to resiliency, and more recently, paying more attention to sustainability. Upgrades the old fashioned way just won’t keep pace. But it’s also challenge, because organizations need to revisit their development practices, and in some cases, rip apart and refactor existing hard-coded modifications. At SAPPHIRE this week, we heard about the account of one large SAP customer with over 50,000 hard-coded modifications to its classic applications make the full migration to BTP in just a year (yes, SAP does have an extensive modification checker, but we digress). We expect that for most the process will be a longer haul. Progress ain’t easy, but since we’re on the topic, we have one selfish request for SAP: Could you please use BTP to move Ariba into the 21st century?'"
            ],
            "application/vnd.google.colaboratory.intrinsic+json": {
              "type": "string"
            }
          },
          "metadata": {},
          "execution_count": 9
        }
      ]
    },
    {
      "cell_type": "code",
      "source": [
        "import re\n",
        "import nltk\n",
        "nltk.download('stopwords')\n",
        "from nltk.corpus import stopwords\n",
        "nltk.download('wordnet')\n",
        "from nltk.stem import WordNetLemmatizer\n",
        "from collections import Counter\n",
        "\n",
        "lemmatizer = WordNetLemmatizer()\n",
        "def generate_ngrams(s, n):\n",
        "    # Convert to lowercases\n",
        "    s = s.lower()\n",
        "    \n",
        "    # Replace all none alphanumeric characters with spaces\n",
        "    s = re.sub(r'[^a-zA-Z0-9\\s]', ' ', s)\n",
        "\n",
        "    # Stopword removal\n",
        "    stop_words = set(stopwords.words('english'))\n",
        "    s = \" \".join([word for word in str(s).split() if word not in stop_words])\n",
        "\n",
        "    # Lemmatizing the words\n",
        "    s = \" \".join([lemmatizer.lemmatize(word) for word in s.split()])\n",
        "\n",
        "    # Break sentence in the token, remove empty tokens\n",
        "    tokens = [token for token in s.split(\" \") if token != \"\"]\n",
        "    \n",
        "    # Use the zip function to help us generate n-grams\n",
        "    # Concatentate the tokens into ngrams and return\n",
        "    ngrams = zip(*[tokens[i:] for i in range(n)])\n",
        "    final_list = [\" \".join(ngram) for ngram in ngrams]\n",
        "\n",
        "    a = Counter(final_list)\n",
        "    return a.most_common(5)"
      ],
      "metadata": {
        "colab": {
          "base_uri": "https://localhost:8080/"
        },
        "id": "hM8b5IaP314v",
        "outputId": "a4c3532e-246d-4b07-8390-36239b0a23c5"
      },
      "execution_count": 34,
      "outputs": [
        {
          "output_type": "stream",
          "name": "stdout",
          "text": [
            "[nltk_data] Downloading package stopwords to /root/nltk_data...\n",
            "[nltk_data]   Package stopwords is already up-to-date!\n",
            "[nltk_data] Downloading package wordnet to /root/nltk_data...\n",
            "[nltk_data]   Package wordnet is already up-to-date!\n"
          ]
        }
      ]
    },
    {
      "cell_type": "code",
      "source": [
        "generate_ngrams(data['Content'][0], 2)"
      ],
      "metadata": {
        "colab": {
          "base_uri": "https://localhost:8080/"
        },
        "id": "MkoUlGBt4fWD",
        "outputId": "63bde279-28c4-4bda-ab7f-1e9755c073f3"
      },
      "execution_count": 35,
      "outputs": [
        {
          "output_type": "execute_result",
          "data": {
            "text/plain": [
              "[('sap customer', 6),\n",
              " ('btp sap', 3),\n",
              " ('generation change', 2),\n",
              " ('year old', 2),\n",
              " ('year sap', 2)]"
            ]
          },
          "metadata": {},
          "execution_count": 35
        }
      ]
    },
    {
      "cell_type": "code",
      "source": [
        "data['article_top_bigrams'] = data['Content'].apply(lambda text: generate_ngrams(text, 2))"
      ],
      "metadata": {
        "id": "BkSSu0d79Ii4"
      },
      "execution_count": 36,
      "outputs": []
    },
    {
      "cell_type": "code",
      "source": [
        "data.head(2)"
      ],
      "metadata": {
        "colab": {
          "base_uri": "https://localhost:8080/",
          "height": 226
        },
        "id": "r6kn7FL69rA0",
        "outputId": "22fa48d8-13b7-42e2-fc8d-4c810178ed1f"
      },
      "execution_count": 37,
      "outputs": [
        {
          "output_type": "execute_result",
          "data": {
            "text/plain": [
              "                                              Header              DateTime  \\\n",
              "0  SAP’s key to generational change is its best-k...  May 12, 2022 7:00 AM   \n",
              "1  ThoughtSpot adds new BI capabilities, editions...  May 11, 2022 2:41 PM   \n",
              "\n",
              "                                         Article_Url  \\\n",
              "0  https://venturebeat.com/2022/05/12/saps-key-to...   \n",
              "1  https://venturebeat.com/2022/05/11/thoughtspot...   \n",
              "\n",
              "                                             Content  \\\n",
              "0  SAP is no stranger to generation change. Turni...   \n",
              "1  At its Beyond 2022 conference yesterday, indep...   \n",
              "\n",
              "                                 article_top_bigrams  \n",
              "0  [(sap customer, 6), (btp sap, 3), (generation ...  \n",
              "1  [(business intelligence, 4), (number user, 4),...  "
            ],
            "text/html": [
              "\n",
              "  <div id=\"df-c6decd0f-cae3-40ab-8bc7-3cfbd055f3a0\">\n",
              "    <div class=\"colab-df-container\">\n",
              "      <div>\n",
              "<style scoped>\n",
              "    .dataframe tbody tr th:only-of-type {\n",
              "        vertical-align: middle;\n",
              "    }\n",
              "\n",
              "    .dataframe tbody tr th {\n",
              "        vertical-align: top;\n",
              "    }\n",
              "\n",
              "    .dataframe thead th {\n",
              "        text-align: right;\n",
              "    }\n",
              "</style>\n",
              "<table border=\"1\" class=\"dataframe\">\n",
              "  <thead>\n",
              "    <tr style=\"text-align: right;\">\n",
              "      <th></th>\n",
              "      <th>Header</th>\n",
              "      <th>DateTime</th>\n",
              "      <th>Article_Url</th>\n",
              "      <th>Content</th>\n",
              "      <th>article_top_bigrams</th>\n",
              "    </tr>\n",
              "  </thead>\n",
              "  <tbody>\n",
              "    <tr>\n",
              "      <th>0</th>\n",
              "      <td>SAP’s key to generational change is its best-k...</td>\n",
              "      <td>May 12, 2022 7:00 AM</td>\n",
              "      <td>https://venturebeat.com/2022/05/12/saps-key-to...</td>\n",
              "      <td>SAP is no stranger to generation change. Turni...</td>\n",
              "      <td>[(sap customer, 6), (btp sap, 3), (generation ...</td>\n",
              "    </tr>\n",
              "    <tr>\n",
              "      <th>1</th>\n",
              "      <td>ThoughtSpot adds new BI capabilities, editions...</td>\n",
              "      <td>May 11, 2022 2:41 PM</td>\n",
              "      <td>https://venturebeat.com/2022/05/11/thoughtspot...</td>\n",
              "      <td>At its Beyond 2022 conference yesterday, indep...</td>\n",
              "      <td>[(business intelligence, 4), (number user, 4),...</td>\n",
              "    </tr>\n",
              "  </tbody>\n",
              "</table>\n",
              "</div>\n",
              "      <button class=\"colab-df-convert\" onclick=\"convertToInteractive('df-c6decd0f-cae3-40ab-8bc7-3cfbd055f3a0')\"\n",
              "              title=\"Convert this dataframe to an interactive table.\"\n",
              "              style=\"display:none;\">\n",
              "        \n",
              "  <svg xmlns=\"http://www.w3.org/2000/svg\" height=\"24px\"viewBox=\"0 0 24 24\"\n",
              "       width=\"24px\">\n",
              "    <path d=\"M0 0h24v24H0V0z\" fill=\"none\"/>\n",
              "    <path d=\"M18.56 5.44l.94 2.06.94-2.06 2.06-.94-2.06-.94-.94-2.06-.94 2.06-2.06.94zm-11 1L8.5 8.5l.94-2.06 2.06-.94-2.06-.94L8.5 2.5l-.94 2.06-2.06.94zm10 10l.94 2.06.94-2.06 2.06-.94-2.06-.94-.94-2.06-.94 2.06-2.06.94z\"/><path d=\"M17.41 7.96l-1.37-1.37c-.4-.4-.92-.59-1.43-.59-.52 0-1.04.2-1.43.59L10.3 9.45l-7.72 7.72c-.78.78-.78 2.05 0 2.83L4 21.41c.39.39.9.59 1.41.59.51 0 1.02-.2 1.41-.59l7.78-7.78 2.81-2.81c.8-.78.8-2.07 0-2.86zM5.41 20L4 18.59l7.72-7.72 1.47 1.35L5.41 20z\"/>\n",
              "  </svg>\n",
              "      </button>\n",
              "      \n",
              "  <style>\n",
              "    .colab-df-container {\n",
              "      display:flex;\n",
              "      flex-wrap:wrap;\n",
              "      gap: 12px;\n",
              "    }\n",
              "\n",
              "    .colab-df-convert {\n",
              "      background-color: #E8F0FE;\n",
              "      border: none;\n",
              "      border-radius: 50%;\n",
              "      cursor: pointer;\n",
              "      display: none;\n",
              "      fill: #1967D2;\n",
              "      height: 32px;\n",
              "      padding: 0 0 0 0;\n",
              "      width: 32px;\n",
              "    }\n",
              "\n",
              "    .colab-df-convert:hover {\n",
              "      background-color: #E2EBFA;\n",
              "      box-shadow: 0px 1px 2px rgba(60, 64, 67, 0.3), 0px 1px 3px 1px rgba(60, 64, 67, 0.15);\n",
              "      fill: #174EA6;\n",
              "    }\n",
              "\n",
              "    [theme=dark] .colab-df-convert {\n",
              "      background-color: #3B4455;\n",
              "      fill: #D2E3FC;\n",
              "    }\n",
              "\n",
              "    [theme=dark] .colab-df-convert:hover {\n",
              "      background-color: #434B5C;\n",
              "      box-shadow: 0px 1px 3px 1px rgba(0, 0, 0, 0.15);\n",
              "      filter: drop-shadow(0px 1px 2px rgba(0, 0, 0, 0.3));\n",
              "      fill: #FFFFFF;\n",
              "    }\n",
              "  </style>\n",
              "\n",
              "      <script>\n",
              "        const buttonEl =\n",
              "          document.querySelector('#df-c6decd0f-cae3-40ab-8bc7-3cfbd055f3a0 button.colab-df-convert');\n",
              "        buttonEl.style.display =\n",
              "          google.colab.kernel.accessAllowed ? 'block' : 'none';\n",
              "\n",
              "        async function convertToInteractive(key) {\n",
              "          const element = document.querySelector('#df-c6decd0f-cae3-40ab-8bc7-3cfbd055f3a0');\n",
              "          const dataTable =\n",
              "            await google.colab.kernel.invokeFunction('convertToInteractive',\n",
              "                                                     [key], {});\n",
              "          if (!dataTable) return;\n",
              "\n",
              "          const docLinkHtml = 'Like what you see? Visit the ' +\n",
              "            '<a target=\"_blank\" href=https://colab.research.google.com/notebooks/data_table.ipynb>data table notebook</a>'\n",
              "            + ' to learn more about interactive tables.';\n",
              "          element.innerHTML = '';\n",
              "          dataTable['output_type'] = 'display_data';\n",
              "          await google.colab.output.renderOutput(dataTable, element);\n",
              "          const docLink = document.createElement('div');\n",
              "          docLink.innerHTML = docLinkHtml;\n",
              "          element.appendChild(docLink);\n",
              "        }\n",
              "      </script>\n",
              "    </div>\n",
              "  </div>\n",
              "  "
            ]
          },
          "metadata": {},
          "execution_count": 37
        }
      ]
    },
    {
      "cell_type": "code",
      "source": [
        "def Convert(tup, di = {}):\n",
        "    di = dict(tup)\n",
        "    return di\n",
        "\n",
        "\n",
        "data['article_top_bigrams'] = data['article_top_bigrams'].apply(lambda lst: Convert(lst))"
      ],
      "metadata": {
        "id": "Vq-cgdaE6EpC"
      },
      "execution_count": 39,
      "outputs": []
    },
    {
      "cell_type": "code",
      "source": [
        "data['article_top_bigrams'].head(2)"
      ],
      "metadata": {
        "colab": {
          "base_uri": "https://localhost:8080/"
        },
        "id": "x99HGIBQ941y",
        "outputId": "a5bf8b6d-e7b4-4d0e-9617-f67ccdb577ac"
      },
      "execution_count": 41,
      "outputs": [
        {
          "output_type": "execute_result",
          "data": {
            "text/plain": [
              "0    {'sap customer': 6, 'btp sap': 3, 'generation ...\n",
              "1    {'business intelligence': 4, 'number user': 4,...\n",
              "Name: article_top_bigrams, dtype: object"
            ]
          },
          "metadata": {},
          "execution_count": 41
        }
      ]
    },
    {
      "cell_type": "code",
      "source": [
        "data.to_csv(\"top_bigram.csv\",index=False)"
      ],
      "metadata": {
        "id": "grTg93vr_Ygr"
      },
      "execution_count": 42,
      "outputs": []
    }
  ]
}